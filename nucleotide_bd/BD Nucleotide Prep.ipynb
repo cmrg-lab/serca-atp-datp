{
 "cells": [
  {
   "cell_type": "code",
   "execution_count": 5,
   "id": "a3b0d6d6",
   "metadata": {},
   "outputs": [],
   "source": [
    "import mdtraj as md\n",
    "import numpy as np\n",
    "import itertools"
   ]
  },
  {
   "cell_type": "code",
   "execution_count": 11,
   "id": "9aeeebe0",
   "metadata": {},
   "outputs": [],
   "source": [
    "ATP_SERCA = md.load(\"/home/marcus/Documents/SERCA/serca-atp-datp/structure_prep/3W5A_human/charmm-gui-ATP/amber/step5_input.rst7\", top = \"/home/marcus/Documents/SERCA/serca-atp-datp/structure_prep/3W5A_human/charmm-gui-ATP/amber/step5_input.parm7\")"
   ]
  },
  {
   "cell_type": "code",
   "execution_count": 12,
   "id": "a62f6a11",
   "metadata": {},
   "outputs": [],
   "source": [
    "dATP_SERCA = md.load(\"/home/marcus/Documents/SERCA/serca-atp-datp/structure_prep/3W5A_human/charmm-gui-dATP/amber/step5_input.rst7\", top = \"/home/marcus/Documents/SERCA/serca-atp-datp/structure_prep/3W5A_human/charmm-gui-dATP/amber/step5_input.parm7\")"
   ]
  },
  {
   "cell_type": "code",
   "execution_count": 13,
   "id": "377f21c1",
   "metadata": {},
   "outputs": [],
   "source": [
    "ATP_list = list(itertools.product(ATP_SERCA.top.select('(residue 486 and resname PHE) or (residue 558 and resname ARG)'),\n",
    "                                   ATP_SERCA.top.select('resname ATP')))"
   ]
  },
  {
   "cell_type": "code",
   "execution_count": 14,
   "id": "a2b9e6f1",
   "metadata": {},
   "outputs": [],
   "source": [
    "dATP_list = list(itertools.product(dATP_SERCA.top.select('(residue 486 and resname PHE) or (residue 558 and resname ARG)'),\n",
    "                                   dATP_SERCA.top.select('resname DTP')))\n"
   ]
  },
  {
   "cell_type": "code",
   "execution_count": 15,
   "id": "b7b1cf09",
   "metadata": {},
   "outputs": [],
   "source": [
    "ATP_dists= md.compute_distances(ATP_SERCA, ATP_list)"
   ]
  },
  {
   "cell_type": "code",
   "execution_count": 16,
   "id": "9fdf823b",
   "metadata": {},
   "outputs": [],
   "source": [
    "dATP_dists= md.compute_distances(dATP_SERCA, dATP_list)"
   ]
  },
  {
   "cell_type": "code",
   "execution_count": 37,
   "id": "f34be631",
   "metadata": {
    "scrolled": false
   },
   "outputs": [
    {
     "name": "stdout",
     "output_type": "stream",
     "text": [
      "PHE486-CB ATP993-H10\n",
      "PHE486-HB2 ATP993-H10\n",
      "PHE486-CG ATP993-H10\n",
      "PHE486-CD2 ATP993-H10\n",
      "ARG558-HD2 ATP993-O1\n",
      "ARG558-HD2 ATP993-H1\n",
      "ARG558-NE ATP993-O1\n",
      "ARG558-NE ATP993-C3\n",
      "ARG558-NE ATP993-H4\n",
      "ARG558-NE ATP993-O3\n",
      "ARG558-NE ATP993-H7\n",
      "ARG558-HE ATP993-C1\n",
      "ARG558-HE ATP993-O1\n",
      "ARG558-HE ATP993-H1\n",
      "ARG558-HE ATP993-H2\n",
      "ARG558-HE ATP993-C3\n",
      "ARG558-HE ATP993-H4\n",
      "ARG558-HE ATP993-O3\n",
      "ARG558-HE ATP993-H7\n",
      "ARG558-HE ATP993-C5\n",
      "ARG558-CZ ATP993-C3\n",
      "ARG558-CZ ATP993-H4\n",
      "ARG558-NH2 ATP993-C3\n",
      "ARG558-NH2 ATP993-H4\n",
      "ARG558-NH2 ATP993-O3\n",
      "ARG558-HH21 ATP993-C3\n",
      "ARG558-HH21 ATP993-H4\n",
      "ARG558-HH21 ATP993-O3\n",
      "ARG558-HH21 ATP993-C5\n",
      "ARG558-HH21 ATP993-H8\n",
      "ARG558-HH21 ATP993-N1\n",
      "ARG558-HH21 ATP993-C6\n",
      "ARG558-HH21 ATP993-H9\n",
      "ARG558-HH21 ATP993-C7\n",
      "ARG558-HH22 ATP993-H4\n"
     ]
    }
   ],
   "source": [
    "# Threshold in NM (0.35 defualt )\n",
    "\n",
    "def identify_binding_pairs(traj_name, atom_pair_list, dist_array, binding_threshold = 0.35):\n",
    "    return_atom_list = []\n",
    "    boolean_array = dist_array[0]<= binding_threshold # Use [0] for the first and only frame of the traj \n",
    "    \n",
    "    for pairs in np.array(atom_pair_list)[boolean_array]:\n",
    "        print(traj_name.top.atom(pairs[0]), \n",
    "             traj_name.top.atom(pairs[1]))\n",
    "        return_atom_list.append((traj_name.top.atom(pairs[0]), \n",
    "             traj_name.top.atom(pairs[1])))\n",
    "    \n",
    "    return return_atom_list\n",
    "    \n",
    "ATP_return_list = identify_binding_pairs(ATP_SERCA, ATP_list, ATP_dists)"
   ]
  },
  {
   "cell_type": "code",
   "execution_count": 38,
   "id": "e1d0ee55",
   "metadata": {},
   "outputs": [
    {
     "name": "stdout",
     "output_type": "stream",
     "text": [
      "PHE486-CB DTP993-H10\n",
      "PHE486-HB2 DTP993-H10\n",
      "PHE486-CG DTP993-H10\n",
      "PHE486-CD2 DTP993-H10\n",
      "ARG558-HD2 DTP993-O1\n",
      "ARG558-HD2 DTP993-H1\n",
      "ARG558-NE DTP993-C3\n",
      "ARG558-NE DTP993-H4\n",
      "ARG558-NE DTP993-H5\n",
      "ARG558-HE DTP993-C1\n",
      "ARG558-HE DTP993-O1\n",
      "ARG558-HE DTP993-H1\n",
      "ARG558-HE DTP993-H2\n",
      "ARG558-HE DTP993-C3\n",
      "ARG558-HE DTP993-H4\n",
      "ARG558-HE DTP993-H5\n",
      "ARG558-HE DTP993-C5\n",
      "ARG558-CZ DTP993-C3\n",
      "ARG558-CZ DTP993-H5\n",
      "ARG558-NH2 DTP993-C3\n",
      "ARG558-NH2 DTP993-H4\n",
      "ARG558-NH2 DTP993-H5\n",
      "ARG558-HH21 DTP993-C3\n",
      "ARG558-HH21 DTP993-H4\n",
      "ARG558-HH21 DTP993-H5\n",
      "ARG558-HH21 DTP993-C5\n",
      "ARG558-HH21 DTP993-H8\n",
      "ARG558-HH21 DTP993-N1\n",
      "ARG558-HH21 DTP993-C6\n",
      "ARG558-HH21 DTP993-H9\n",
      "ARG558-HH21 DTP993-C7\n",
      "ARG558-HH22 DTP993-H5\n"
     ]
    }
   ],
   "source": [
    "dATP_return_list = identify_binding_pairs(dATP_SERCA, dATP_list, dATP_dists)"
   ]
  },
  {
   "cell_type": "code",
   "execution_count": 50,
   "id": "a6a49e37",
   "metadata": {},
   "outputs": [
    {
     "name": "stdout",
     "output_type": "stream",
     "text": [
      "PHE486-CB DTP993-H10\n",
      "PHE486-HB2 DTP993-H10\n",
      "PHE486-CG DTP993-H10\n",
      "PHE486-CD2 DTP993-H10\n",
      "ARG558-HD2 DTP993-O1\n",
      "ARG558-HD2 DTP993-H1\n",
      "ARG558-NE DTP993-C3\n",
      "ARG558-NE DTP993-H4\n",
      "ARG558-HE DTP993-C1\n",
      "ARG558-HE DTP993-O1\n",
      "ARG558-HE DTP993-H1\n",
      "ARG558-HE DTP993-H2\n",
      "ARG558-HE DTP993-C3\n",
      "ARG558-HE DTP993-H4\n",
      "ARG558-HE DTP993-C5\n",
      "ARG558-CZ DTP993-C3\n",
      "ARG558-NH2 DTP993-C3\n",
      "ARG558-NH2 DTP993-H4\n",
      "ARG558-HH21 DTP993-C3\n",
      "ARG558-HH21 DTP993-H4\n",
      "ARG558-HH21 DTP993-C5\n",
      "ARG558-HH21 DTP993-H8\n",
      "ARG558-HH21 DTP993-N1\n",
      "ARG558-HH21 DTP993-C6\n",
      "ARG558-HH21 DTP993-H9\n",
      "ARG558-HH21 DTP993-C7\n"
     ]
    }
   ],
   "source": [
    "ATP_inds = []\n",
    "dATP_inds = []\n",
    "\n",
    "for i in range(len(ATP_return_list)):\n",
    "    for j in range(len(dATP_return_list)):\n",
    "        if (ATP_return_list[i][0].name == dATP_return_list[j][0].name) and (ATP_return_list[i][1].name == dATP_return_list[j][1].name):\n",
    "            print(dATP_return_list[j][0], dATP_return_list[j][1])\n",
    "            ATP_inds.append(i)\n",
    "            dATP_inds.append(j)\n",
    "            break"
   ]
  },
  {
   "cell_type": "code",
   "execution_count": 69,
   "id": "7991c03d",
   "metadata": {},
   "outputs": [
    {
     "data": {
      "text/plain": [
       "15407"
      ]
     },
     "execution_count": 69,
     "metadata": {},
     "output_type": "execute_result"
    }
   ],
   "source": [
    "max(ATP_SERCA.top.select('protein'))"
   ]
  },
  {
   "cell_type": "code",
   "execution_count": 76,
   "id": "6b65b8c0",
   "metadata": {},
   "outputs": [
    {
     "data": {
      "text/plain": [
       "ATP993-O11"
      ]
     },
     "execution_count": 76,
     "metadata": {},
     "output_type": "execute_result"
    }
   ],
   "source": [
    "ATP_SERCA.top.atom(15407+2)"
   ]
  },
  {
   "cell_type": "code",
   "execution_count": null,
   "id": "66a103e9",
   "metadata": {},
   "outputs": [],
   "source": [
    "max(ATP_SERCA.top.select('protein'))"
   ]
  },
  {
   "cell_type": "code",
   "execution_count": 88,
   "id": "04a26c13",
   "metadata": {
    "scrolled": false
   },
   "outputs": [
    {
     "name": "stdout",
     "output_type": "stream",
     "text": [
      "<rxn_pairs>\n",
      "  <pair> 7557 38 </pair>\n",
      "  <pair> 7558 38 </pair>\n",
      "  <pair> 7560 38 </pair>\n",
      "  <pair> 7569 38 </pair>\n",
      "  <pair> 8688 21 </pair>\n",
      "  <pair> 8688 22 </pair>\n",
      "  <pair> 8690 24 </pair>\n",
      "  <pair> 8690 25 </pair>\n",
      "  <pair> 8691 20 </pair>\n",
      "  <pair> 8691 21 </pair>\n",
      "  <pair> 8691 22 </pair>\n",
      "  <pair> 8691 23 </pair>\n",
      "  <pair> 8691 24 </pair>\n",
      "  <pair> 8691 25 </pair>\n",
      "  <pair> 8691 28 </pair>\n",
      "  <pair> 8692 24 </pair>\n",
      "  <pair> 8696 24 </pair>\n",
      "  <pair> 8696 25 </pair>\n",
      "  <pair> 8697 24 </pair>\n",
      "  <pair> 8697 25 </pair>\n",
      "  <pair> 8697 28 </pair>\n",
      "  <pair> 8697 29 </pair>\n",
      "  <pair> 8697 30 </pair>\n",
      "  <pair> 8697 31 </pair>\n",
      "  <pair> 8697 32 </pair>\n",
      "  <pair> 8697 35 </pair>\n",
      "</rxn_pairs>\n"
     ]
    }
   ],
   "source": [
    "\n",
    "max_ATP = max(ATP_SERCA.top.select('protein'))\n",
    "\n",
    "print('<rxn_pairs>')\n",
    "for ind in ATP_inds:\n",
    "    protein_ind = ATP_return_list[ind][0].index+1\n",
    "    nucleotide_ind = ATP_return_list[ind][1].index -1 - max_ATP\n",
    "    print(\"  <pair> {} {} </pair>\".format(protein_ind, nucleotide_ind))\n",
    "    #print(ATP_return_list[ind][0].index+1)\n",
    "    # print(ATP_return_list[ind][1], ATP_return_list[ind][1].index -1 - max_ATP)\n",
    "    #print(ATP_return_list[ind][1].index -1 - max_ATP)\n",
    "\n",
    "print('</rxn_pairs>')"
   ]
  },
  {
   "cell_type": "code",
   "execution_count": 89,
   "id": "f86ae058",
   "metadata": {
    "scrolled": false
   },
   "outputs": [
    {
     "name": "stdout",
     "output_type": "stream",
     "text": [
      "<rxn_pairs>\n",
      "  <pair> 7557 37 </pair>\n",
      "  <pair> 7558 37 </pair>\n",
      "  <pair> 7560 37 </pair>\n",
      "  <pair> 7569 37 </pair>\n",
      "  <pair> 8688 21 </pair>\n",
      "  <pair> 8688 22 </pair>\n",
      "  <pair> 8690 24 </pair>\n",
      "  <pair> 8690 25 </pair>\n",
      "  <pair> 8691 20 </pair>\n",
      "  <pair> 8691 21 </pair>\n",
      "  <pair> 8691 22 </pair>\n",
      "  <pair> 8691 23 </pair>\n",
      "  <pair> 8691 24 </pair>\n",
      "  <pair> 8691 25 </pair>\n",
      "  <pair> 8691 27 </pair>\n",
      "  <pair> 8692 24 </pair>\n",
      "  <pair> 8696 24 </pair>\n",
      "  <pair> 8696 25 </pair>\n",
      "  <pair> 8697 24 </pair>\n",
      "  <pair> 8697 25 </pair>\n",
      "  <pair> 8697 27 </pair>\n",
      "  <pair> 8697 28 </pair>\n",
      "  <pair> 8697 29 </pair>\n",
      "  <pair> 8697 30 </pair>\n",
      "  <pair> 8697 31 </pair>\n",
      "  <pair> 8697 34 </pair>\n",
      "</rxn_pairs>\n"
     ]
    }
   ],
   "source": [
    "\n",
    "max_dATP = max(dATP_SERCA.top.select('protein'))\n",
    "\n",
    "print('<rxn_pairs>')\n",
    "for ind in dATP_inds:\n",
    "    protein_ind = dATP_return_list[ind][0].index+1\n",
    "    nucleotide_ind = dATP_return_list[ind][1].index -1 - max_dATP\n",
    "    print(\"  <pair> {} {} </pair>\".format(protein_ind, nucleotide_ind))\n",
    "    #print(dATP_return_list[ind][0].index+1)\n",
    "    # print(dATP_return_list[ind][1], dATP_return_list[ind][1].index -1 - max_dATP)\n",
    "    #print(dATP_return_list[ind][1].index -1 - max_dATP)\n",
    "\n",
    "print('</rxn_pairs>')"
   ]
  },
  {
   "cell_type": "markdown",
   "id": "0413ae49",
   "metadata": {},
   "source": [
    "### Calcium Binding Prep"
   ]
  },
  {
   "cell_type": "markdown",
   "id": "6f6c5b98",
   "metadata": {},
   "source": [
    "Site 1 (from Toya paper and structure) \n",
    "Need to correct numbering \n",
    "\n",
    "Asn768, Glu771 (M5), Thr799, X Asp800 (M6) and Glu908 (M8) contribute to this site\n",
    "\n",
    "Ignoring Asp800 because it's in both "
   ]
  },
  {
   "cell_type": "code",
   "execution_count": 99,
   "id": "fec2e6d6",
   "metadata": {},
   "outputs": [
    {
     "data": {
      "text/plain": [
       "VAL767-N"
      ]
     },
     "execution_count": 99,
     "metadata": {},
     "output_type": "execute_result"
    }
   ],
   "source": [
    "ATP_SERCA.top.atom(11860)"
   ]
  },
  {
   "cell_type": "code",
   "execution_count": 147,
   "id": "f309a218",
   "metadata": {},
   "outputs": [],
   "source": [
    "site_1_list = [766, 769, 797, 906]"
   ]
  },
  {
   "cell_type": "code",
   "execution_count": 148,
   "id": "03d71fa3",
   "metadata": {},
   "outputs": [
    {
     "name": "stdout",
     "output_type": "stream",
     "text": [
      "ASN766\n",
      "GLU769\n",
      "THR797\n",
      "GLU906\n"
     ]
    }
   ],
   "source": [
    "for I in site_1_list:\n",
    "    print(ATP_SERCA.top.residue(I))"
   ]
  },
  {
   "cell_type": "markdown",
   "id": "fcd1a4a1",
   "metadata": {},
   "source": [
    "N796 E310 I308\n",
    "\n"
   ]
  },
  {
   "cell_type": "code",
   "execution_count": 143,
   "id": "eb90a8f9",
   "metadata": {},
   "outputs": [
    {
     "name": "stdout",
     "output_type": "stream",
     "text": [
      "ALA304\n"
     ]
    },
    {
     "data": {
      "text/plain": [
       "305"
      ]
     },
     "execution_count": 143,
     "metadata": {},
     "output_type": "execute_result"
    }
   ],
   "source": [
    "print(ATP_SERCA.top.residue(306-2))\n",
    "307-2\n"
   ]
  },
  {
   "cell_type": "code",
   "execution_count": 138,
   "id": "0a6166d0",
   "metadata": {},
   "outputs": [],
   "source": [
    "site_2_list = [794, 308, 306]"
   ]
  },
  {
   "cell_type": "code",
   "execution_count": 158,
   "id": "d6a32165",
   "metadata": {},
   "outputs": [
    {
     "name": "stdout",
     "output_type": "stream",
     "text": [
      "<rxn_pairs>\n",
      "  <pair> 11846 1 </pair>\n",
      "  <pair> 11847 1 </pair>\n",
      "  <pair> 11848 1 </pair>\n",
      "  <pair> 11849 1 </pair>\n",
      "  <pair> 11850 1 </pair>\n",
      "  <pair> 11851 1 </pair>\n",
      "  <pair> 11852 1 </pair>\n",
      "  <pair> 11853 1 </pair>\n",
      "  <pair> 11854 1 </pair>\n",
      "  <pair> 11855 1 </pair>\n",
      "  <pair> 11856 1 </pair>\n",
      "  <pair> 11857 1 </pair>\n",
      "  <pair> 11858 1 </pair>\n",
      "  <pair> 11859 1 </pair>\n",
      "  <pair> 11883 1 </pair>\n",
      "  <pair> 11884 1 </pair>\n",
      "  <pair> 11885 1 </pair>\n",
      "  <pair> 11886 1 </pair>\n",
      "  <pair> 11887 1 </pair>\n",
      "  <pair> 11888 1 </pair>\n",
      "  <pair> 11889 1 </pair>\n",
      "  <pair> 11890 1 </pair>\n",
      "  <pair> 11891 1 </pair>\n",
      "  <pair> 11892 1 </pair>\n",
      "  <pair> 11893 1 </pair>\n",
      "  <pair> 11894 1 </pair>\n",
      "  <pair> 11895 1 </pair>\n",
      "  <pair> 11896 1 </pair>\n",
      "  <pair> 11897 1 </pair>\n",
      "  <pair> 12330 1 </pair>\n",
      "  <pair> 12331 1 </pair>\n",
      "  <pair> 12332 1 </pair>\n",
      "  <pair> 12333 1 </pair>\n",
      "  <pair> 12334 1 </pair>\n",
      "  <pair> 12335 1 </pair>\n",
      "  <pair> 12336 1 </pair>\n",
      "  <pair> 12337 1 </pair>\n",
      "  <pair> 12338 1 </pair>\n",
      "  <pair> 12339 1 </pair>\n",
      "  <pair> 12340 1 </pair>\n",
      "  <pair> 12341 1 </pair>\n",
      "  <pair> 12342 1 </pair>\n",
      "  <pair> 12343 1 </pair>\n",
      "  <pair> 13979 1 </pair>\n",
      "  <pair> 13980 1 </pair>\n",
      "  <pair> 13981 1 </pair>\n",
      "  <pair> 13982 1 </pair>\n",
      "  <pair> 13983 1 </pair>\n",
      "  <pair> 13984 1 </pair>\n",
      "  <pair> 13985 1 </pair>\n",
      "  <pair> 13986 1 </pair>\n",
      "  <pair> 13987 1 </pair>\n",
      "  <pair> 13988 1 </pair>\n",
      "  <pair> 13989 1 </pair>\n",
      "  <pair> 13990 1 </pair>\n",
      "  <pair> 13991 1 </pair>\n",
      "  <pair> 13992 1 </pair>\n",
      "  <pair> 13993 1 </pair>\n",
      "</rxn_pairs>\n"
     ]
    }
   ],
   "source": [
    "print('<rxn_pairs>')\n",
    "for I in site_1_list:\n",
    "    for a in ATP_SERCA.top.residue(I).atoms:\n",
    "        #print(a, a.index)\n",
    "        print(\"  <pair> {} {} </pair>\".format(a.index, 1))\n",
    "print('</rxn_pairs>')"
   ]
  },
  {
   "cell_type": "code",
   "execution_count": 157,
   "id": "f7ba0f34",
   "metadata": {},
   "outputs": [
    {
     "name": "stdout",
     "output_type": "stream",
     "text": [
      "<rxn_pairs>\n",
      "  <pair> 12281 1 </pair>\n",
      "  <pair> 12282 1 </pair>\n",
      "  <pair> 12283 1 </pair>\n",
      "  <pair> 12284 1 </pair>\n",
      "  <pair> 12285 1 </pair>\n",
      "  <pair> 12286 1 </pair>\n",
      "  <pair> 12287 1 </pair>\n",
      "  <pair> 12288 1 </pair>\n",
      "  <pair> 12289 1 </pair>\n",
      "  <pair> 12290 1 </pair>\n",
      "  <pair> 12291 1 </pair>\n",
      "  <pair> 12292 1 </pair>\n",
      "  <pair> 12293 1 </pair>\n",
      "  <pair> 12294 1 </pair>\n",
      "  <pair> 4843 1 </pair>\n",
      "  <pair> 4844 1 </pair>\n",
      "  <pair> 4845 1 </pair>\n",
      "  <pair> 4846 1 </pair>\n",
      "  <pair> 4847 1 </pair>\n",
      "  <pair> 4848 1 </pair>\n",
      "  <pair> 4849 1 </pair>\n",
      "  <pair> 4850 1 </pair>\n",
      "  <pair> 4851 1 </pair>\n",
      "  <pair> 4852 1 </pair>\n",
      "  <pair> 4853 1 </pair>\n",
      "  <pair> 4854 1 </pair>\n",
      "  <pair> 4855 1 </pair>\n",
      "  <pair> 4856 1 </pair>\n",
      "  <pair> 4857 1 </pair>\n",
      "  <pair> 4810 1 </pair>\n",
      "  <pair> 4811 1 </pair>\n",
      "  <pair> 4812 1 </pair>\n",
      "  <pair> 4813 1 </pair>\n",
      "  <pair> 4814 1 </pair>\n",
      "  <pair> 4815 1 </pair>\n",
      "  <pair> 4816 1 </pair>\n",
      "  <pair> 4817 1 </pair>\n",
      "  <pair> 4818 1 </pair>\n",
      "  <pair> 4819 1 </pair>\n",
      "  <pair> 4820 1 </pair>\n",
      "  <pair> 4821 1 </pair>\n",
      "  <pair> 4822 1 </pair>\n",
      "  <pair> 4823 1 </pair>\n",
      "  <pair> 4824 1 </pair>\n",
      "  <pair> 4825 1 </pair>\n",
      "  <pair> 4826 1 </pair>\n",
      "  <pair> 4827 1 </pair>\n",
      "  <pair> 4828 1 </pair>\n",
      "</rxn_pairs>\n"
     ]
    }
   ],
   "source": [
    "print('<rxn_pairs>')\n",
    "for II in site_2_list:\n",
    "    for a in ATP_SERCA.top.residue(II).atoms:\n",
    "        #print(a, a.index)\n",
    "        print(\"  <pair> {} {} </pair>\".format(a.index, 1))\n",
    "print('</rxn_pairs>')"
   ]
  },
  {
   "cell_type": "code",
   "execution_count": 98,
   "id": "8b032c82",
   "metadata": {},
   "outputs": [
    {
     "data": {
      "text/plain": [
       "array([11860, 11861, 11862, 11863, 11864, 11865, 11866, 11867, 11868,\n",
       "       11869, 11870, 11871, 11872, 11873, 11874, 11875])"
      ]
     },
     "execution_count": 98,
     "metadata": {},
     "output_type": "execute_result"
    }
   ],
   "source": [
    "ATP_SERCA.top.select('residue 767')"
   ]
  }
 ],
 "metadata": {
  "kernelspec": {
   "display_name": "Python 3 (ipykernel)",
   "language": "python",
   "name": "python3"
  },
  "language_info": {
   "codemirror_mode": {
    "name": "ipython",
    "version": 3
   },
   "file_extension": ".py",
   "mimetype": "text/x-python",
   "name": "python",
   "nbconvert_exporter": "python",
   "pygments_lexer": "ipython3",
   "version": "3.8.12"
  }
 },
 "nbformat": 4,
 "nbformat_minor": 5
}
